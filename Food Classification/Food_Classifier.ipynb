{
  "nbformat": 4,
  "nbformat_minor": 0,
  "metadata": {
    "colab": {
      "provenance": []
    },
    "kernelspec": {
      "name": "python3",
      "display_name": "Python 3"
    },
    "language_info": {
      "name": "python"
    }
  },
  "cells": [
    {
      "cell_type": "code",
      "execution_count": 12,
      "metadata": {
        "id": "mRRaHjcLorLo"
      },
      "outputs": [],
      "source": [
        "import os\n",
        "import zipfile\n",
        "import random\n",
        "import shutil\n",
        "import tensorflow as tf\n",
        "from tensorflow.keras.preprocessing.image import ImageDataGenerator\n",
        "from shutil import copyfile\n",
        "import matplotlib.pyplot as plt\n",
        "import numpy as np"
      ]
    },
    {
      "cell_type": "code",
      "source": [
        "source_path = '/content/FoodImage'\n",
        "\n",
        "source_path_sayur = os.path.join(source_path, 'sayur')\n",
        "source_path_tahu = os.path.join(source_path, 'tahu')\n",
        "source_path_tempe = os.path.join(source_path, 'tempe')\n",
        "\n",
        "print(f\"There are {len(os.listdir(source_path_sayur))} images of sayur.\")\n",
        "print(f\"There are {len(os.listdir(source_path_tahu))} images of tahu.\")\n",
        "print(f\"There are {len(os.listdir(source_path_tempe))} images of tempe.\")"
      ],
      "metadata": {
        "colab": {
          "base_uri": "https://localhost:8080/"
        },
        "id": "LXJIYjkZo_RA",
        "outputId": "3c60782e-05d9-4645-84b1-2712e13de829"
      },
      "execution_count": 7,
      "outputs": [
        {
          "output_type": "stream",
          "name": "stdout",
          "text": [
            "There are 221 images of sayur.\n",
            "There are 99 images of tahu.\n",
            "There are 128 images of tempe.\n"
          ]
        }
      ]
    },
    {
      "cell_type": "code",
      "source": [
        "# Define root directory\n",
        "root_dir = '/content/FoodClass'\n",
        "\n",
        "if os.path.exists(root_dir):\n",
        "  shutil.rmtree(root_dir)\n",
        "\n",
        "def create_train_test_dirs(root_path):\n",
        "  os.makedirs(os.path.join(root_path, 'training'))\n",
        "  os.makedirs(os.path.join(f'{root_path}/training', 'sayur'))\n",
        "  os.makedirs(os.path.join(f'{root_path}/training', 'tahu'))\n",
        "  os.makedirs(os.path.join(f'{root_path}/training', 'tempe'))\n",
        "  os.makedirs(os.path.join(root_path, 'testing'))\n",
        "  os.makedirs(os.path.join(f'{root_path}/testing', 'sayur'))\n",
        "  os.makedirs(os.path.join(f'{root_path}/testing', 'tahu'))\n",
        "  os.makedirs(os.path.join(f'{root_path}/testing', 'tempe'))\n",
        "\n",
        "\n",
        "try:\n",
        "  create_train_test_dirs(root_path=root_dir)\n",
        "except FileExistsError:\n",
        "  print(\"You should not be seeing this since the upper directory is removed beforehand\")"
      ],
      "metadata": {
        "id": "v8k7a_S6sbnv"
      },
      "execution_count": 8,
      "outputs": []
    },
    {
      "cell_type": "code",
      "source": [
        "for rootdir, dirs, files in os.walk(root_dir):\n",
        "    for subdir in dirs:\n",
        "        print(os.path.join(rootdir, subdir))"
      ],
      "metadata": {
        "colab": {
          "base_uri": "https://localhost:8080/"
        },
        "id": "M4ohmw_kuAUj",
        "outputId": "7ae495e0-0cda-406a-fdf7-9060917d5f9d"
      },
      "execution_count": 9,
      "outputs": [
        {
          "output_type": "stream",
          "name": "stdout",
          "text": [
            "/content/FoodClass/testing\n",
            "/content/FoodClass/training\n",
            "/content/FoodClass/testing/sayur\n",
            "/content/FoodClass/testing/tempe\n",
            "/content/FoodClass/testing/tahu\n",
            "/content/FoodClass/training/sayur\n",
            "/content/FoodClass/training/tempe\n",
            "/content/FoodClass/training/tahu\n"
          ]
        }
      ]
    },
    {
      "cell_type": "code",
      "source": [
        "def split_data(SOURCE, TRAINING, TESTING, SPLIT_SIZE):\n",
        "\n",
        "  shuffled_source = random.sample(os.listdir(SOURCE), len(os.listdir(SOURCE)))\n",
        "\n",
        "  training_number = int(len(shuffled_source) * SPLIT_SIZE)\n",
        "\n",
        "  i = 0\n",
        "  target = TRAINING\n",
        "\n",
        "  for item in shuffled_source:\n",
        "    item_source = os.path.join(SOURCE, item)\n",
        "    if os.path.getsize(item_source) == 0:\n",
        "      print(f'{item} is zero length, so ignoring.')\n",
        "    else:\n",
        "      copyfile(item_source, os.path.join(target, item))\n",
        "      i += 1\n",
        "\n",
        "    if i == training_number:\n",
        "      target = TESTING"
      ],
      "metadata": {
        "id": "pjszud_1uGAC"
      },
      "execution_count": 10,
      "outputs": []
    },
    {
      "cell_type": "code",
      "source": [
        "# Test your split_data function\n",
        "\n",
        "# Define paths\n",
        "SAYUR_SOURCE_DIR = \"/content/FoodImage/sayur/\"\n",
        "TAHU_SOURCE_DIR = \"/content/FoodImage/tahu/\"\n",
        "TEMPE_SOURCE_DIR= \"/content/FoodImage/tempe/\"\n",
        "\n",
        "TRAINING_DIR = \"/content/FoodClass/training/\"\n",
        "TESTING_DIR = \"/content/FoodClass/testing/\"\n",
        "\n",
        "TRAINING_SAYUR_DIR = os.path.join(TRAINING_DIR, \"sayur/\")\n",
        "TESTING_SAYUR_DIR = os.path.join(TESTING_DIR, \"sayur/\")\n",
        "\n",
        "TRAINING_TAHU_DIR = os.path.join(TRAINING_DIR, \"tahu/\")\n",
        "TESTING_TAHU_DIR = os.path.join(TESTING_DIR, \"tahu/\")\n",
        "\n",
        "TRAINING_TEMPE_DIR = os.path.join(TRAINING_DIR, \"tempe/\")\n",
        "TESTING_TEMPE_DIR = os.path.join(TESTING_DIR, \"tempe/\")\n",
        "\n",
        "# Empty directories in case you run this cell multiple times\n",
        "if len(os.listdir(TRAINING_SAYUR_DIR)) > 0:\n",
        "  for file in os.scandir(TRAINING_SAYUR_DIR):\n",
        "    os.remove(file.path)\n",
        "if len(os.listdir(TESTING_SAYUR_DIR)) > 0:\n",
        "  for file in os.scandir(TESTING_SAYUR_DIR):\n",
        "    os.remove(file.path)\n",
        "\n",
        "if len(os.listdir(TRAINING_TAHU_DIR)) > 0:\n",
        "  for file in os.scandir(TRAINING_TAHU_DIR):\n",
        "    os.remove(file.path)\n",
        "if len(os.listdir(TESTING_TAHU_DIR)) > 0:\n",
        "  for file in os.scandir(TESTING_TAHU_DIR):\n",
        "    os.remove(file.path)\n",
        "\n",
        "if len(os.listdir(TRAINING_TEMPE_DIR)) > 0:\n",
        "  for file in os.scandir(TRAINING_TEMPE_DIR):\n",
        "    os.remove(file.path)\n",
        "if len(os.listdir(TESTING_TEMPE_DIR)) > 0:\n",
        "  for file in os.scandir(TESTING_TEMPE_DIR):\n",
        "    os.remove(file.path)\n",
        "\n",
        "\n",
        "# Define proportion of images used for training\n",
        "split_size = .9\n",
        "\n",
        "# Run the function\n",
        "split_data(SAYUR_SOURCE_DIR, TRAINING_SAYUR_DIR, TESTING_SAYUR_DIR, split_size)\n",
        "split_data(TAHU_SOURCE_DIR, TRAINING_TAHU_DIR, TESTING_TAHU_DIR, split_size)\n",
        "split_data(TEMPE_SOURCE_DIR, TRAINING_TEMPE_DIR, TESTING_TEMPE_DIR, split_size)\n",
        "\n",
        "# Check that the number of images matches the expected output\n",
        "print(f\"\\n\\nThere are {len(os.listdir(TRAINING_SAYUR_DIR))} images of sayur for training\")\n",
        "print(f\"There are {len(os.listdir(TRAINING_TAHU_DIR))} images of tahu for training\")\n",
        "print(f\"There are {len(os.listdir(TRAINING_TAHU_DIR))} images of tempe for training\")\n",
        "\n",
        "print(f\"\\n\\nThere are {len(os.listdir(TESTING_SAYUR_DIR))} images of sayur for testing\")\n",
        "print(f\"There are {len(os.listdir(TESTING_TAHU_DIR))} images of tahu for testing\")\n",
        "print(f\"There are {len(os.listdir(TESTING_TAHU_DIR))} images of tempe for testing\")"
      ],
      "metadata": {
        "colab": {
          "base_uri": "https://localhost:8080/"
        },
        "id": "R7tng0DruTeh",
        "outputId": "d439dee9-475e-4b2f-955a-bd9789f2a265"
      },
      "execution_count": 11,
      "outputs": [
        {
          "output_type": "stream",
          "name": "stdout",
          "text": [
            "\n",
            "\n",
            "There are 198 images of sayur for training\n",
            "There are 89 images of tahu for training\n",
            "There are 89 images of tempe for training\n",
            "\n",
            "\n",
            "There are 23 images of sayur for testing\n",
            "There are 10 images of tahu for testing\n",
            "There are 10 images of tempe for testing\n"
          ]
        }
      ]
    },
    {
      "cell_type": "code",
      "source": [
        "# # GRADED FUNCTION: train_val_generators\n",
        "# def train_val_generators(TRAINING_DIR, VALIDATION_DIR):\n",
        "#   ### START CODE HERE\n",
        "\n",
        "#   # Instantiate the ImageDataGenerator class (don't forget to set the rescale argument)\n",
        "#   train_datagen = ImageDataGenerator(rescale = 1./255.)\n",
        "\n",
        "#   # Pass in the appropiate arguments to the flow_from_directory method\n",
        "#   train_generator = train_datagen.flow_from_directory(directory=TRAINING_DIR,\n",
        "#                                                       batch_size=45,\n",
        "#                                                       class_mode='binary',\n",
        "#                                                       target_size=(150, 150))\n",
        "\n",
        "#   # Instantiate the ImageDataGenerator class (don't forget to set the rescale argument)\n",
        "#   validation_datagen = ImageDataGenerator(rescale = 1./255.)\n",
        "\n",
        "#   # Pass in the appropiate arguments to the flow_from_directory method\n",
        "#   validation_generator = validation_datagen.flow_from_directory(directory=VALIDATION_DIR,\n",
        "#                                                                 batch_size=5,\n",
        "#                                                                 class_mode='binary',\n",
        "#                                                                 target_size=(150, 150))\n",
        "#   ### END CODE HERE\n",
        "#   return train_generator, validation_generator"
      ],
      "metadata": {
        "id": "gLHjCjTlwPHK"
      },
      "execution_count": 23,
      "outputs": []
    },
    {
      "cell_type": "code",
      "source": [
        "# # Test your generators\n",
        "# train_generator, validation_generator = train_val_generators(TRAINING_DIR, TESTING_DIR)"
      ],
      "metadata": {
        "id": "EnynYRCtwyEC"
      },
      "execution_count": 22,
      "outputs": []
    },
    {
      "cell_type": "code",
      "source": [
        "n_classes = 3\n",
        "batch_size = 32\n",
        "img_width, img_height = 299, 299\n",
        "\n",
        "train_datagen = ImageDataGenerator(\n",
        "    rescale=1. / 255,\n",
        "    shear_range=0.2,\n",
        "    zoom_range=0.2,\n",
        "    horizontal_flip=True)\n",
        "\n",
        "train_generator = train_datagen.flow_from_directory(\n",
        "    TRAINING_DIR,\n",
        "    target_size=(img_height, img_width),\n",
        "    batch_size=batch_size,\n",
        "    color_mode=\"grayscale\",\n",
        "    class_mode='categorical')\n",
        "\n",
        "\n",
        "val_datagen = ImageDataGenerator(rescale=1. / 255)\n",
        "\n",
        "val_generator = val_datagen.flow_from_directory(\n",
        "    TESTING_DIR,\n",
        "    target_size=(img_height, img_width),\n",
        "    batch_size=batch_size,\n",
        "    color_mode=\"grayscale\",\n",
        "    class_mode='categorical')"
      ],
      "metadata": {
        "colab": {
          "base_uri": "https://localhost:8080/"
        },
        "id": "RVBjBUHm2Jek",
        "outputId": "494b8015-0283-4286-86c6-06e8ba18c645"
      },
      "execution_count": 41,
      "outputs": [
        {
          "output_type": "stream",
          "name": "stdout",
          "text": [
            "Found 402 images belonging to 3 classes.\n",
            "Found 46 images belonging to 3 classes.\n"
          ]
        }
      ]
    },
    {
      "cell_type": "code",
      "source": [
        "class_map = train_generator.class_indices\n",
        "class_map"
      ],
      "metadata": {
        "colab": {
          "base_uri": "https://localhost:8080/"
        },
        "id": "7jFsbH4L2cpT",
        "outputId": "ff469c96-9499-4442-fe6e-3eef271dee5c"
      },
      "execution_count": 42,
      "outputs": [
        {
          "output_type": "execute_result",
          "data": {
            "text/plain": [
              "{'sayur': 0, 'tahu': 1, 'tempe': 2}"
            ]
          },
          "metadata": {},
          "execution_count": 42
        }
      ]
    },
    {
      "cell_type": "code",
      "source": [
        "def create_model():\n",
        "\n",
        "  ### START CODE HERE\n",
        "\n",
        "  # Define the model\n",
        "  # Use no more than 2 Conv2D and 2 MaxPooling2D\n",
        "  model = tf.keras.models.Sequential([\n",
        "    tf.keras.layers.Conv2D(64, (3, 3), activation='relu', input_shape=(299, 299, 1)),\n",
        "    tf.keras.layers.MaxPooling2D(2, 2),\n",
        "    tf.keras.layers.Conv2D(64, (3, 3), activation='relu', input_shape=(28, 28, 1)),\n",
        "    tf.keras.layers.MaxPooling2D(2, 2),\n",
        "    # Flatten\n",
        "    tf.keras.layers.Flatten(),\n",
        "    tf.keras.layers.Dense(512, activation='relu'),\n",
        "    # 26 classes\n",
        "    tf.keras.layers.Dense(3, activation='softmax')\n",
        "  ])\n",
        "\n",
        "\n",
        "  model.compile(optimizer = tf.optimizers.Adam(),\n",
        "                loss = 'categorical_crossentropy',\n",
        "                metrics=['accuracy'])\n",
        "\n",
        "  ### END CODE HERE\n",
        "\n",
        "  return model"
      ],
      "metadata": {
        "id": "LXt4kgXExdR_"
      },
      "execution_count": 45,
      "outputs": []
    },
    {
      "cell_type": "code",
      "source": [
        "# Save your model\n",
        "model = create_model()\n",
        "\n",
        "# Train your model\n",
        "history = model.fit(train_generator,\n",
        "                    epochs=15,\n",
        "                    validation_data=val_generator)"
      ],
      "metadata": {
        "colab": {
          "base_uri": "https://localhost:8080/"
        },
        "id": "68mZtR-vx01X",
        "outputId": "4091c440-6f78-4ff5-f16d-f3c281988b7e"
      },
      "execution_count": 46,
      "outputs": [
        {
          "output_type": "stream",
          "name": "stdout",
          "text": [
            "Epoch 1/15\n",
            "13/13 [==============================] - 144s 11s/step - loss: 4.2018 - accuracy: 0.4080 - val_loss: 1.0187 - val_accuracy: 0.5000\n",
            "Epoch 2/15\n",
            "13/13 [==============================] - 139s 11s/step - loss: 0.9568 - accuracy: 0.4876 - val_loss: 1.0456 - val_accuracy: 0.4348\n",
            "Epoch 3/15\n",
            "13/13 [==============================] - 140s 11s/step - loss: 0.9412 - accuracy: 0.4851 - val_loss: 0.9853 - val_accuracy: 0.3913\n",
            "Epoch 4/15\n",
            "13/13 [==============================] - 140s 11s/step - loss: 0.9100 - accuracy: 0.5075 - val_loss: 0.9805 - val_accuracy: 0.4565\n",
            "Epoch 5/15\n",
            "13/13 [==============================] - 140s 11s/step - loss: 0.8824 - accuracy: 0.5124 - val_loss: 1.1425 - val_accuracy: 0.4348\n",
            "Epoch 6/15\n",
            "13/13 [==============================] - 141s 11s/step - loss: 0.8745 - accuracy: 0.5274 - val_loss: 1.1263 - val_accuracy: 0.4783\n",
            "Epoch 7/15\n",
            "13/13 [==============================] - 140s 11s/step - loss: 0.8509 - accuracy: 0.5572 - val_loss: 0.9547 - val_accuracy: 0.5000\n",
            "Epoch 8/15\n",
            "13/13 [==============================] - 141s 11s/step - loss: 0.8304 - accuracy: 0.5597 - val_loss: 1.0023 - val_accuracy: 0.4348\n",
            "Epoch 9/15\n",
            "13/13 [==============================] - 141s 11s/step - loss: 0.8216 - accuracy: 0.5697 - val_loss: 1.0306 - val_accuracy: 0.4783\n",
            "Epoch 10/15\n",
            "13/13 [==============================] - 141s 11s/step - loss: 0.7774 - accuracy: 0.6095 - val_loss: 0.9593 - val_accuracy: 0.4565\n",
            "Epoch 11/15\n",
            "13/13 [==============================] - 140s 11s/step - loss: 0.7604 - accuracy: 0.6318 - val_loss: 0.9803 - val_accuracy: 0.4348\n",
            "Epoch 12/15\n",
            "13/13 [==============================] - 138s 11s/step - loss: 0.7214 - accuracy: 0.6642 - val_loss: 1.0943 - val_accuracy: 0.4565\n",
            "Epoch 13/15\n",
            "13/13 [==============================] - 140s 11s/step - loss: 0.7351 - accuracy: 0.6269 - val_loss: 1.2299 - val_accuracy: 0.4348\n",
            "Epoch 14/15\n",
            "13/13 [==============================] - 140s 11s/step - loss: 0.6969 - accuracy: 0.6567 - val_loss: 1.1389 - val_accuracy: 0.4565\n",
            "Epoch 15/15\n",
            "13/13 [==============================] - 140s 11s/step - loss: 0.7297 - accuracy: 0.6219 - val_loss: 1.1188 - val_accuracy: 0.5000\n"
          ]
        }
      ]
    },
    {
      "cell_type": "code",
      "source": [
        "# Plot the chart for accuracy and loss on both training and validation\n",
        "acc = history.history['accuracy']\n",
        "val_acc = history.history['val_accuracy']\n",
        "loss = history.history['loss']\n",
        "val_loss = history.history['val_loss']\n",
        "\n",
        "epochs = range(len(acc))\n",
        "\n",
        "plt.plot(epochs, acc, 'r', label='Training accuracy')\n",
        "plt.plot(epochs, val_acc, 'b', label='Validation accuracy')\n",
        "plt.title('Training and validation accuracy')\n",
        "plt.legend()\n",
        "plt.figure()\n",
        "\n",
        "plt.plot(epochs, loss, 'r', label='Training Loss')\n",
        "plt.plot(epochs, val_loss, 'b', label='Validation Loss')\n",
        "plt.title('Training and validation loss')\n",
        "plt.legend()\n",
        "\n",
        "plt.show()"
      ],
      "metadata": {
        "colab": {
          "base_uri": "https://localhost:8080/",
          "height": 887
        },
        "id": "PMmkuyF7x5j1",
        "outputId": "df1d2dcd-a1f0-4949-b01f-5bf4b16f4ed1"
      },
      "execution_count": 47,
      "outputs": [
        {
          "output_type": "display_data",
          "data": {
            "text/plain": [
              "<Figure size 640x480 with 1 Axes>"
            ],
            "image/png": "[encoded data removed]"
          },
          "metadata": {}
        },
        {
          "output_type": "display_data",
          "data": {
            "text/plain": [
              "<Figure size 640x480 with 1 Axes>"
            ],
            "image/png": "[encoded data removed]"
          },
          "metadata": {}
        }
      ]
    }
  ]
}